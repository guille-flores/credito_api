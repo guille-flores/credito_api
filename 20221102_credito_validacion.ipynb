{
 "cells": [
  {
   "cell_type": "code",
   "execution_count": 105,
   "metadata": {},
   "outputs": [],
   "source": [
    "primer_nombre = \"Guillermo\" #@param {type: \"string\"}\n",
    "apellido_paterno = \"Garcia\" #@param {type: \"string\"}\n",
    "apellido_materno = \"Martinez\" #@param {type: \"string\"}\n",
    "fecha_nacimiento = \"1997-07-10\" #@param {type: \"date\"}\n",
    "ingreso_mensual = 24990  #@param {type: \"number\"}\n",
    "dependientes = 4  #@param {type: \"integer\"}\n",
    "\n",
    "\n",
    "\n",
    "if ingreso_mensual < 0:\n",
    "   print('El ingreso mensual registrado es negativo ('+ str(ingreso_mensual) +'). Utilizaremos el valor positivo para tu registro y evaluación dew crédito',)\n",
    "if dependientes < 0:\n",
    "  print('El número de dependientes económicos registrado es negativo  ('+ str(dependientes) +'). Utilizaremos el valor positivo para tu registro y evaluación dew crédito')\n",
    "\n",
    "usuario = {\n",
    "    \"name\": primer_nombre, \n",
    "    \"fath_lastname\": apellido_paterno, \n",
    "    \"moth_lastname\": apellido_materno,\n",
    "    \"nacimiento\": fecha_nacimiento,\n",
    "    \"rfc\": \"\",\n",
    "    \"ingreso_men\": abs(ingreso_mensual),\n",
    "    \"dependientes\": abs(dependientes),\n",
    "    \"aprobar\" : False\n",
    "      }\n",
    "\n",
    "#para la creacion del RFC vamos a trabajr con la fecha de nacimiento como un dataframe por comodidad\n",
    "fecha_nacimiento = datetime.strptime(usuario[\"nacimiento\"], '%Y-%m-%d')\n",
    "date2str = lambda x : \"0\"+str(x) if (x<10) else x #para agregar 0 en caso de que el mes o dia sean menores a 10.\n",
    "usuario[\"rfc\"] = (usuario[\"fath_lastname\"][0:2]+usuario[\"moth_lastname\"][0]+usuario[\"name\"][0]+str(fecha_nacimiento.year)[2:]+str(date2str(fecha_nacimiento.month))+str(date2str(fecha_nacimiento.day))).upper()\n",
    "\n",
    "#aprobaremos el credito solo si gana mas de 25k al mes, o si gana entr 15-25k y tiene <3 dependientes economicos\n",
    "if 25000 <= usuario[\"ingreso_men\"]:\n",
    "  usuario[\"aprobar\"] = True\n",
    "elif (25000 > usuario[\"ingreso_men\"] > 15000) and (usuario[\"dependientes\"] < 3):\n",
    "  usuario[\"aprobar\"] = True\n"
   ]
  },
  {
   "cell_type": "markdown",
   "metadata": {},
   "source": [
    "Base de Datos\n",
    "\n",
    "Se agrega o actualiza al usuario dependiendo si se encuentra ya registrado."
   ]
  },
  {
   "cell_type": "code",
   "execution_count": 4,
   "metadata": {},
   "outputs": [
    {
     "name": "stdout",
     "output_type": "stream",
     "text": [
      "Collecting psycopg2\n",
      "  Downloading psycopg2-2.9.5-cp310-cp310-win_amd64.whl (1.2 MB)\n",
      "     ---------------------------------------- 1.2/1.2 MB 1.7 MB/s eta 0:00:00\n",
      "Installing collected packages: psycopg2\n",
      "Successfully installed psycopg2-2.9.5\n",
      "Note: you may need to restart the kernel to use updated packages.\n"
     ]
    },
    {
     "name": "stderr",
     "output_type": "stream",
     "text": [
      "WARNING: You are using pip version 22.0.4; however, version 22.3 is available.\n",
      "You should consider upgrading via the 'c:\\Users\\Gramirez29\\AppData\\Local\\Programs\\Python\\Python310\\python.exe -m pip install --upgrade pip' command.\n"
     ]
    }
   ],
   "source": [
    "%pip install psycopg2\n",
    "#%pip install -U Flask-SQLAlchemy"
   ]
  },
  {
   "cell_type": "code",
   "execution_count": 106,
   "metadata": {},
   "outputs": [],
   "source": [
    "import psycopg2\n",
    "\n",
    "dbcredentials = {\n",
    "    \"hostname\": \"localhost\", \n",
    "    \"database\": \"api_solicitudes_db\", \n",
    "    \"port\": 5432,\n",
    "    \"username\": \"postgres\",\n",
    "    \"pwd\": \"SLBPSgramirez29\"\n",
    "      }\n",
    "\n",
    "connection = None\n",
    "cur = None\n",
    "try:\n",
    "    connection = psycopg2.connect(\n",
    "        host = dbcredentials[\"hostname\"],\n",
    "        dbname = dbcredentials[\"database\"],\n",
    "        user = dbcredentials[\"username\"],\n",
    "        password = dbcredentials[\"pwd\"],\n",
    "        port = dbcredentials[\"port\"]\n",
    "    )\n",
    "    cur = connection.cursor()\n",
    "    \n",
    "    #checking if user already in DB\n",
    "    cur.execute(\"\"\"SELECT \"ID\" FROM usuarios_registrados \n",
    "        WHERE \"RFC\" = '\"\"\"+usuario[\"rfc\"]+\"\"\"' \n",
    "        AND \"PRIMER_NOMBRE\" = '\"\"\"+usuario[\"name\"]+\"\"\"'\n",
    "        AND \"APELLIDO_PAT\" = '\"\"\"+usuario[\"fath_lastname\"]+\"\"\"'\n",
    "        AND \"APELLIDO_MAT\" = '\"\"\"+usuario[\"moth_lastname\"]+\"\"\"'\n",
    "        \"\"\"\n",
    "    )\n",
    "    #si el usuario ya se encuentra registrado, se actualizara su registro\n",
    "    try:\n",
    "        user_id = cur.fetchall()[0][0]\n",
    "        #to update the data in the DB\n",
    "        update_user = \"\"\"UPDATE usuarios_registrados\n",
    "        SET \"INGRESOS_MENSUALES\" = \"\"\"+str(usuario[\"ingreso_men\"])+\"\"\", \"DEPENDIENTES\" = \"\"\" +str(usuario[\"dependientes\"])+\"\"\", \"APROBADO\" = \"\"\"+str(usuario[\"aprobar\"])+ \"\"\"\n",
    "        WHERE \"ID\" = \"\"\"+str(user_id)+\"\"\"\n",
    "        \"\"\"\n",
    "        cur.execute(update_user)\n",
    "\n",
    "    except:\n",
    "        cur.execute('SELECT \"ID\" FROM usuarios_registrados ORDER BY \"ID\" DESC LIMIT 1')\n",
    "        user_id = cur.fetchall()[0][0] + 1 #adding one so that user is not dup\n",
    "        #to insert the data to the DB\n",
    "        insert_user = 'INSERT INTO usuarios_registrados (\"ID\", \"PRIMER_NOMBRE\", \"APELLIDO_PAT\", \"APELLIDO_MAT\", \"FECHA_NAC\", \"RFC\", \"INGRESOS_MENSUALES\", \"DEPENDIENTES\", \"APROBADO\") VALUES (%s, %s, %s, %s, %s, %s, %s, %s, %s)'\n",
    "        user_list=list(usuario.values())\n",
    "        user_list.insert(0,user_id)\n",
    "        user_values = user_list\n",
    "        cur.execute(insert_user, user_values)\n",
    "    \n",
    "    connection.commit()\n",
    "except Exception as error:\n",
    "    print(error)\n",
    "finally:\n",
    "    if cur:\n",
    "        cur.close()\n",
    "    if connection:\n",
    "        connection.close()"
   ]
  },
  {
   "cell_type": "markdown",
   "metadata": {},
   "source": [
    "Solicitud de Crédito API\n",
    "\n",
    "Se retorna el ID, RFC y si el usuario fue aprobado o rechazado"
   ]
  },
  {
   "cell_type": "code",
   "execution_count": 120,
   "metadata": {},
   "outputs": [
    {
     "name": "stdout",
     "output_type": "stream",
     "text": [
      "Requirement already satisfied: pyngrok in c:\\users\\gramirez29\\appdata\\local\\programs\\python\\python310\\lib\\site-packages (5.1.0)Note: you may need to restart the kernel to use updated packages.\n",
      "\n",
      "Requirement already satisfied: nest_asyncio in c:\\users\\gramirez29\\appdata\\local\\programs\\python\\python310\\lib\\site-packages (1.5.5)\n",
      "Requirement already satisfied: fastapi in c:\\users\\gramirez29\\appdata\\local\\programs\\python\\python310\\lib\\site-packages (0.85.2)\n",
      "Requirement already satisfied: uvicorn in c:\\users\\gramirez29\\appdata\\local\\programs\\python\\python310\\lib\\site-packages (0.19.0)\n",
      "Collecting loguru\n",
      "  Downloading loguru-0.6.0-py3-none-any.whl (58 kB)\n",
      "     -------------------------------------- 58.3/58.3 KB 341.0 kB/s eta 0:00:00\n",
      "Requirement already satisfied: PyYAML in c:\\users\\gramirez29\\appdata\\local\\programs\\python\\python310\\lib\\site-packages (from pyngrok) (6.0)\n",
      "Requirement already satisfied: pydantic!=1.7,!=1.7.1,!=1.7.2,!=1.7.3,!=1.8,!=1.8.1,<2.0.0,>=1.6.2 in c:\\users\\gramirez29\\appdata\\local\\programs\\python\\python310\\lib\\site-packages (from fastapi) (1.10.2)\n",
      "Requirement already satisfied: starlette==0.20.4 in c:\\users\\gramirez29\\appdata\\local\\programs\\python\\python310\\lib\\site-packages (from fastapi) (0.20.4)\n",
      "Requirement already satisfied: anyio<5,>=3.4.0 in c:\\users\\gramirez29\\appdata\\local\\programs\\python\\python310\\lib\\site-packages (from starlette==0.20.4->fastapi) (3.6.2)\n",
      "Requirement already satisfied: click>=7.0 in c:\\users\\gramirez29\\appdata\\local\\programs\\python\\python310\\lib\\site-packages (from uvicorn) (8.1.3)\n",
      "Requirement already satisfied: h11>=0.8 in c:\\users\\gramirez29\\appdata\\local\\programs\\python\\python310\\lib\\site-packages (from uvicorn) (0.14.0)\n",
      "Collecting win32-setctime>=1.0.0\n",
      "  Downloading win32_setctime-1.1.0-py3-none-any.whl (3.6 kB)\n",
      "Requirement already satisfied: colorama>=0.3.4 in c:\\users\\gramirez29\\appdata\\local\\programs\\python\\python310\\lib\\site-packages (from loguru) (0.4.4)\n",
      "Requirement already satisfied: typing-extensions>=4.1.0 in c:\\users\\gramirez29\\appdata\\local\\programs\\python\\python310\\lib\\site-packages (from pydantic!=1.7,!=1.7.1,!=1.7.2,!=1.7.3,!=1.8,!=1.8.1,<2.0.0,>=1.6.2->fastapi) (4.4.0)\n",
      "Requirement already satisfied: idna>=2.8 in c:\\users\\gramirez29\\appdata\\local\\programs\\python\\python310\\lib\\site-packages (from anyio<5,>=3.4.0->starlette==0.20.4->fastapi) (3.4)\n",
      "Requirement already satisfied: sniffio>=1.1 in c:\\users\\gramirez29\\appdata\\local\\programs\\python\\python310\\lib\\site-packages (from anyio<5,>=3.4.0->starlette==0.20.4->fastapi) (1.3.0)\n",
      "Installing collected packages: win32-setctime, loguru\n",
      "Successfully installed loguru-0.6.0 win32-setctime-1.1.0\n"
     ]
    },
    {
     "name": "stderr",
     "output_type": "stream",
     "text": [
      "WARNING: You are using pip version 22.0.4; however, version 22.3 is available.\n",
      "You should consider upgrading via the 'c:\\Users\\Gramirez29\\AppData\\Local\\Programs\\Python\\Python310\\python.exe -m pip install --upgrade pip' command.\n"
     ]
    }
   ],
   "source": [
    "%pip install pyngrok nest_asyncio fastapi uvicorn loguru\n",
    "#Flask and FastAPI run in our local server. NGrok is used to export connect our local server to the cloud so that it can be accessed worldwide through a temporal URL."
   ]
  },
  {
   "cell_type": "code",
   "execution_count": 123,
   "metadata": {},
   "outputs": [
    {
     "name": "stderr",
     "output_type": "stream",
     "text": [
      "t=2022-11-02T16:35:53-0600 lvl=eror msg=\"failed to reconnect session\" obj=csess id=7da67c8e32c1 err=\"read tcp 100.105.174.217:53787->3.136.132.147:443: wsarecv: An existing connection was forcibly closed by the remote host.\"\n",
      "t=2022-11-02T16:35:53-0600 lvl=eror msg=\"failed to reconnect session\" obj=csess id=7da67c8e32c1 err=\"read tcp 100.105.174.217:53791->3.136.132.147:443: wsarecv: An existing connection was forcibly closed by the remote host.\"\n",
      "t=2022-11-02T16:35:54-0600 lvl=eror msg=\"failed to reconnect session\" obj=csess id=7da67c8e32c1 err=\"Get \\\"https://dns.google.com/resolve?cd=true&name=tunnel.us.ngrok.com&type=A\\\": x509: certificate has expired or is not yet valid: \"\n",
      "t=2022-11-02T16:35:57-0600 lvl=eror msg=\"failed to reconnect session\" obj=csess id=7da67c8e32c1 err=\"read tcp 100.105.174.217:53795->3.20.27.198:443: wsarecv: An existing connection was forcibly closed by the remote host.\"\n",
      "t=2022-11-02T16:35:58-0600 lvl=eror msg=\"failed to reconnect session\" obj=csess id=7da67c8e32c1 err=\"resolved tunnel.us.ngrok.com has no records\"\n",
      "t=2022-11-02T16:36:01-0600 lvl=eror msg=\"failed to reconnect session\" obj=csess id=7da67c8e32c1 err=\"x509: certificate is valid for tunnel.us.ngrok.com, not korgn.su.lennut.com\"\n",
      "t=2022-11-02T16:36:05-0600 lvl=eror msg=\"failed to reconnect session\" obj=csess id=7da67c8e32c1 err=\"Get \\\"https://dns.google.com/resolve?cd=true&name=tunnel.us.ngrok.com&type=A\\\": x509: certificate has expired or is not yet valid: \"\n",
      "t=2022-11-02T16:36:11-0600 lvl=eror msg=\"failed to reconnect session\" obj=csess id=7da67c8e32c1 err=\"x509: certificate is valid for tunnel.us.ngrok.com, not korgn.su.lennut.com\"\n"
     ]
    },
    {
     "ename": "PyngrokNgrokError",
     "evalue": "The ngrok process errored on start: x509: certificate is valid for tunnel.us.ngrok.com, not korgn.su.lennut.com.",
     "output_type": "error",
     "traceback": [
      "\u001b[1;31m---------------------------------------------------------------------------\u001b[0m",
      "\u001b[1;31mPyngrokNgrokError\u001b[0m                         Traceback (most recent call last)",
      "\u001b[1;32mc:\\Users\\Gramirez29\\Documents\\VSC\\CrediClub\\20221102_credito_validacion.ipynb Cell 7\u001b[0m in \u001b[0;36m<cell line: 23>\u001b[1;34m()\u001b[0m\n\u001b[0;32m     <a href='vscode-notebook-cell:/c%3A/Users/Gramirez29/Documents/VSC/CrediClub/20221102_credito_validacion.ipynb#X13sZmlsZQ%3D%3D?line=12'>13</a>\u001b[0m     json_output \u001b[39m=\u001b[39m \u001b[39m\"\"\"\u001b[39m\u001b[39m{\u001b[39m\n\u001b[0;32m     <a href='vscode-notebook-cell:/c%3A/Users/Gramirez29/Documents/VSC/CrediClub/20221102_credito_validacion.ipynb#X13sZmlsZQ%3D%3D?line=13'>14</a>\u001b[0m \u001b[39m      \u001b[39m\u001b[39m\"\u001b[39m\u001b[39mID\u001b[39m\u001b[39m\"\u001b[39m\u001b[39m:\u001b[39m\u001b[39m\"\"\"\u001b[39m\u001b[39m+\u001b[39muser_id\u001b[39m+\u001b[39m\u001b[39m\"\"\"\u001b[39m\u001b[39m,\u001b[39m\n\u001b[0;32m     <a href='vscode-notebook-cell:/c%3A/Users/Gramirez29/Documents/VSC/CrediClub/20221102_credito_validacion.ipynb#X13sZmlsZQ%3D%3D?line=14'>15</a>\u001b[0m \u001b[39m      \u001b[39m\u001b[39m\"\u001b[39m\u001b[39mRFC\u001b[39m\u001b[39m\"\u001b[39m\u001b[39m:\u001b[39m\u001b[39m\"\"\"\u001b[39m\u001b[39m+\u001b[39musuario[\u001b[39m\"\u001b[39m\u001b[39mrfc\u001b[39m\u001b[39m\"\u001b[39m]\u001b[39m+\u001b[39m\u001b[39m\"\"\"\u001b[39m\u001b[39m,\u001b[39m\n\u001b[0;32m     <a href='vscode-notebook-cell:/c%3A/Users/Gramirez29/Documents/VSC/CrediClub/20221102_credito_validacion.ipynb#X13sZmlsZQ%3D%3D?line=15'>16</a>\u001b[0m \u001b[39m      \u001b[39m\u001b[39m\"\u001b[39m\u001b[39mSolicitud\u001b[39m\u001b[39m\"\u001b[39m\u001b[39m:\u001b[39m\u001b[39m\"\"\"\u001b[39m\u001b[39m+\u001b[39m\u001b[39mstr\u001b[39m(usuario[\u001b[39m\"\u001b[39m\u001b[39maprobar\u001b[39m\u001b[39m\"\u001b[39m])\u001b[39m+\u001b[39m\u001b[39m\"\"\"\u001b[39m\n\u001b[0;32m     <a href='vscode-notebook-cell:/c%3A/Users/Gramirez29/Documents/VSC/CrediClub/20221102_credito_validacion.ipynb#X13sZmlsZQ%3D%3D?line=16'>17</a>\u001b[0m \u001b[39m    }\u001b[39m\n\u001b[0;32m     <a href='vscode-notebook-cell:/c%3A/Users/Gramirez29/Documents/VSC/CrediClub/20221102_credito_validacion.ipynb#X13sZmlsZQ%3D%3D?line=17'>18</a>\u001b[0m \u001b[39m    \u001b[39m\u001b[39m\"\"\"\u001b[39m\n\u001b[0;32m     <a href='vscode-notebook-cell:/c%3A/Users/Gramirez29/Documents/VSC/CrediClub/20221102_credito_validacion.ipynb#X13sZmlsZQ%3D%3D?line=18'>19</a>\u001b[0m     \u001b[39mreturn\u001b[39;00m {\u001b[39m\"\u001b[39m\u001b[39mhello\u001b[39m\u001b[39m\"\u001b[39m:\u001b[39m\"\u001b[39m\u001b[39mworld\u001b[39m\u001b[39m\"\u001b[39m}\n\u001b[1;32m---> <a href='vscode-notebook-cell:/c%3A/Users/Gramirez29/Documents/VSC/CrediClub/20221102_credito_validacion.ipynb#X13sZmlsZQ%3D%3D?line=22'>23</a>\u001b[0m ngrok_tunnel \u001b[39m=\u001b[39m ngrok\u001b[39m.\u001b[39;49mconnect(\u001b[39m8000\u001b[39;49m)\n\u001b[0;32m     <a href='vscode-notebook-cell:/c%3A/Users/Gramirez29/Documents/VSC/CrediClub/20221102_credito_validacion.ipynb#X13sZmlsZQ%3D%3D?line=23'>24</a>\u001b[0m \u001b[39mprint\u001b[39m(\u001b[39m'\u001b[39m\u001b[39mPublic URL:\u001b[39m\u001b[39m'\u001b[39m, ngrok_tunnel\u001b[39m.\u001b[39mpublic_url)\n\u001b[0;32m     <a href='vscode-notebook-cell:/c%3A/Users/Gramirez29/Documents/VSC/CrediClub/20221102_credito_validacion.ipynb#X13sZmlsZQ%3D%3D?line=24'>25</a>\u001b[0m nest_asyncio\u001b[39m.\u001b[39mapply()\n",
      "File \u001b[1;32mc:\\Users\\Gramirez29\\AppData\\Local\\Programs\\Python\\Python310\\lib\\site-packages\\pyngrok\\ngrok.py:251\u001b[0m, in \u001b[0;36mconnect\u001b[1;34m(addr, proto, name, pyngrok_config, **options)\u001b[0m\n\u001b[0;32m    244\u001b[0m config \u001b[39m=\u001b[39m {\n\u001b[0;32m    245\u001b[0m     \u001b[39m\"\u001b[39m\u001b[39mname\u001b[39m\u001b[39m\"\u001b[39m: name,\n\u001b[0;32m    246\u001b[0m     \u001b[39m\"\u001b[39m\u001b[39maddr\u001b[39m\u001b[39m\"\u001b[39m: addr,\n\u001b[0;32m    247\u001b[0m     \u001b[39m\"\u001b[39m\u001b[39mproto\u001b[39m\u001b[39m\"\u001b[39m: proto\n\u001b[0;32m    248\u001b[0m }\n\u001b[0;32m    249\u001b[0m options\u001b[39m.\u001b[39mupdate(config)\n\u001b[1;32m--> 251\u001b[0m api_url \u001b[39m=\u001b[39m get_ngrok_process(pyngrok_config)\u001b[39m.\u001b[39mapi_url\n\u001b[0;32m    253\u001b[0m logger\u001b[39m.\u001b[39mdebug(\u001b[39m\"\u001b[39m\u001b[39mCreating tunnel with options: \u001b[39m\u001b[39m{}\u001b[39;00m\u001b[39m\"\u001b[39m\u001b[39m.\u001b[39mformat(options))\n\u001b[0;32m    255\u001b[0m tunnel \u001b[39m=\u001b[39m NgrokTunnel(api_request(\u001b[39m\"\u001b[39m\u001b[39m{}\u001b[39;00m\u001b[39m/api/tunnels\u001b[39m\u001b[39m\"\u001b[39m\u001b[39m.\u001b[39mformat(api_url), method\u001b[39m=\u001b[39m\u001b[39m\"\u001b[39m\u001b[39mPOST\u001b[39m\u001b[39m\"\u001b[39m, data\u001b[39m=\u001b[39moptions,\n\u001b[0;32m    256\u001b[0m                                  timeout\u001b[39m=\u001b[39mpyngrok_config\u001b[39m.\u001b[39mrequest_timeout),\n\u001b[0;32m    257\u001b[0m                      pyngrok_config, api_url)\n",
      "File \u001b[1;32mc:\\Users\\Gramirez29\\AppData\\Local\\Programs\\Python\\Python310\\lib\\site-packages\\pyngrok\\ngrok.py:162\u001b[0m, in \u001b[0;36mget_ngrok_process\u001b[1;34m(pyngrok_config)\u001b[0m\n\u001b[0;32m    158\u001b[0m     pyngrok_config \u001b[39m=\u001b[39m conf\u001b[39m.\u001b[39mget_default()\n\u001b[0;32m    160\u001b[0m install_ngrok(pyngrok_config)\n\u001b[1;32m--> 162\u001b[0m \u001b[39mreturn\u001b[39;00m process\u001b[39m.\u001b[39;49mget_process(pyngrok_config)\n",
      "File \u001b[1;32mc:\\Users\\Gramirez29\\AppData\\Local\\Programs\\Python\\Python310\\lib\\site-packages\\pyngrok\\process.py:295\u001b[0m, in \u001b[0;36mget_process\u001b[1;34m(pyngrok_config)\u001b[0m\n\u001b[0;32m    292\u001b[0m \u001b[39mif\u001b[39;00m is_process_running(pyngrok_config\u001b[39m.\u001b[39mngrok_path):\n\u001b[0;32m    293\u001b[0m     \u001b[39mreturn\u001b[39;00m _current_processes[pyngrok_config\u001b[39m.\u001b[39mngrok_path]\n\u001b[1;32m--> 295\u001b[0m \u001b[39mreturn\u001b[39;00m _start_process(pyngrok_config)\n",
      "File \u001b[1;32mc:\\Users\\Gramirez29\\AppData\\Local\\Programs\\Python\\Python310\\lib\\site-packages\\pyngrok\\process.py:464\u001b[0m, in \u001b[0;36m_start_process\u001b[1;34m(pyngrok_config)\u001b[0m\n\u001b[0;32m    461\u001b[0m kill_process(pyngrok_config\u001b[39m.\u001b[39mngrok_path)\n\u001b[0;32m    463\u001b[0m \u001b[39mif\u001b[39;00m ngrok_process\u001b[39m.\u001b[39mstartup_error \u001b[39mis\u001b[39;00m \u001b[39mnot\u001b[39;00m \u001b[39mNone\u001b[39;00m:\n\u001b[1;32m--> 464\u001b[0m     \u001b[39mraise\u001b[39;00m PyngrokNgrokError(\u001b[39m\"\u001b[39m\u001b[39mThe ngrok process errored on start: \u001b[39m\u001b[39m{}\u001b[39;00m\u001b[39m.\u001b[39m\u001b[39m\"\u001b[39m\u001b[39m.\u001b[39mformat(ngrok_process\u001b[39m.\u001b[39mstartup_error),\n\u001b[0;32m    465\u001b[0m                             ngrok_process\u001b[39m.\u001b[39mlogs,\n\u001b[0;32m    466\u001b[0m                             ngrok_process\u001b[39m.\u001b[39mstartup_error)\n\u001b[0;32m    467\u001b[0m \u001b[39melse\u001b[39;00m:\n\u001b[0;32m    468\u001b[0m     \u001b[39mraise\u001b[39;00m PyngrokNgrokError(\u001b[39m\"\u001b[39m\u001b[39mThe ngrok process was unable to start.\u001b[39m\u001b[39m\"\u001b[39m, ngrok_process\u001b[39m.\u001b[39mlogs)\n",
      "\u001b[1;31mPyngrokNgrokError\u001b[0m: The ngrok process errored on start: x509: certificate is valid for tunnel.us.ngrok.com, not korgn.su.lennut.com."
     ]
    }
   ],
   "source": [
    "try:\n",
    "  from fastapi import FastAPI\n",
    "  import nest_asyncio\n",
    "  from pyngrok import ngrok\n",
    "  import uvicorn\n",
    "except ImportError as eImp:\n",
    "  print(f\"There was an error importing the next libraries: {eImp}\")\n",
    "\n",
    "app = FastAPI()\n",
    "\n",
    "@app.get(\"/\")\n",
    "def return_API():\n",
    "    json_output = \"\"\"{\n",
    "      \"ID\":\"\"\"+user_id+\"\"\",\n",
    "      \"RFC\":\"\"\"+usuario[\"rfc\"]+\"\"\",\n",
    "      \"Solicitud\":\"\"\"+str(usuario[\"aprobar\"])+\"\"\"\n",
    "    }\n",
    "    \"\"\"\n",
    "    return {\"hello\":\"world\"}\n",
    "\n",
    "\n",
    "\n",
    "ngrok_tunnel = ngrok.connect(8000)\n",
    "print('Public URL:', ngrok_tunnel.public_url)\n",
    "nest_asyncio.apply()\n",
    "uvicorn.run(app, port=8000)"
   ]
  }
 ],
 "metadata": {
  "kernelspec": {
   "display_name": "Python 3.10.4 64-bit",
   "language": "python",
   "name": "python3"
  },
  "language_info": {
   "codemirror_mode": {
    "name": "ipython",
    "version": 3
   },
   "file_extension": ".py",
   "mimetype": "text/x-python",
   "name": "python",
   "nbconvert_exporter": "python",
   "pygments_lexer": "ipython3",
   "version": "3.10.4"
  },
  "orig_nbformat": 4,
  "vscode": {
   "interpreter": {
    "hash": "0866c5daaa7ffd23ffb62b5540c4c75f5a8e74563258cb0e1e76d2cae92f7878"
   }
  }
 },
 "nbformat": 4,
 "nbformat_minor": 2
}
